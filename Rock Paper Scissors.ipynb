{
 "cells": [
  {
   "cell_type": "markdown",
   "id": "a77b2394-dd8d-44d3-85b0-92785630609a",
   "metadata": {},
   "source": [
    "**Rock,Paper,Scissors simple game**"
   ]
  },
  {
   "cell_type": "code",
   "execution_count": 4,
   "id": "8fea6f71-f3a9-45c1-b7fb-61bbe2ba5993",
   "metadata": {},
   "outputs": [
    {
     "name": "stdin",
     "output_type": "stream",
     "text": [
      "Enter rock, paper, or scissors:  paper\n"
     ]
    },
    {
     "name": "stdout",
     "output_type": "stream",
     "text": [
      "You chose paper, computer chose rock.\n",
      "You win!\n"
     ]
    }
   ],
   "source": [
    "import random\n",
    "\n",
    "def get_computer_choice():\n",
    "    choices = [\"rock\", \"paper\", \"scissors\"]\n",
    "    return random.choice(choices)\n",
    "\n",
    "def decide_winner(user, computer):\n",
    "    if user == computer:\n",
    "        return \"It's a tie!\"\n",
    "    elif (user == \"rock\" and computer == \"scissors\") or \\\n",
    "         (user == \"scissors\" and computer == \"paper\") or \\\n",
    "         (user == \"paper\" and computer == \"rock\"):\n",
    "        return \"You win!\"\n",
    "    else:\n",
    "        return \"Computer wins!\"\n",
    "\n",
    "# Get user input\n",
    "user_choice = input(\"Enter rock, paper, or scissors: \").lower()\n",
    "computer_choice = get_computer_choice()\n",
    "\n",
    "# Print choices\n",
    "print(f\"You chose {user_choice}, computer chose {computer_choice}.\")\n",
    "\n",
    "# Print the result\n",
    "print(decide_winner(user_choice, computer_choice))"
   ]
  },
  {
   "cell_type": "code",
   "execution_count": null,
   "id": "02b37d65-d188-49a0-82b0-7fcd51573619",
   "metadata": {},
   "outputs": [],
   "source": []
  }
 ],
 "metadata": {
  "kernelspec": {
   "display_name": "Python 3 (ipykernel)",
   "language": "python",
   "name": "python3"
  },
  "language_info": {
   "codemirror_mode": {
    "name": "ipython",
    "version": 3
   },
   "file_extension": ".py",
   "mimetype": "text/x-python",
   "name": "python",
   "nbconvert_exporter": "python",
   "pygments_lexer": "ipython3",
   "version": "3.12.4"
  }
 },
 "nbformat": 4,
 "nbformat_minor": 5
}
